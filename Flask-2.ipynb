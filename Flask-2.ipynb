{
 "cells": [
  {
   "cell_type": "code",
   "execution_count": null,
   "id": "70b36f8c-fcc2-4137-ab74-7635903a2bca",
   "metadata": {},
   "outputs": [],
   "source": [
    "Q.1> Explain GET and POST methods.\n",
    "Ans> GET: The GET method is used to retrieve data from a server. When a user types a URL into a web browser, \n",
    "     the browser sends a GET request to the server asking for the resource at that URL. The parameters for the \n",
    "     request (such as search queries or page number) are included in the URL itself, separated by a question mark. \n",
    "     Because the parameters are included in the URL, GET requests are visible to the user and can be bookmarked or \n",
    "     shared. GET requests are also cached by browsers, which can speed up page load times for frequently visited pages.\n",
    "\n",
    "     POST: The POST method is used to send data to a server. For example, when a user fills out a form on a website \n",
    "     and clicks \"Submit,\" the data from the form is sent to the server using a POST request. Unlike GET requests, \n",
    "     POST requests do not include parameters in the URL. Instead, they include the parameters in the request body, \n",
    "     which is not visible to the user. This makes POST requests more secure for transmitting sensitive information \n",
    "     such as passwords or credit card numbers. Because POST requests are not cached, they are slower than GET requests \n",
    "     for repeated requests of the same data."
   ]
  },
  {
   "cell_type": "code",
   "execution_count": null,
   "id": "8f14d8de-72bf-41ff-81c3-346cd782ee67",
   "metadata": {},
   "outputs": [],
   "source": [
    "Q.2> Why is request used in Flask?\n",
    "Ans> The request module in Flask is used to access incoming request data in Flask applications. When a client \n",
    "     (such as a web browser) sends a request to a Flask web application, the application can use the request \n",
    "     module to access information about the request, such as the HTTP method used (e.g. GET, POST, etc.), the \n",
    "     data sent in the request body (if any), and any parameters or data sent as part of the request URL."
   ]
  },
  {
   "cell_type": "code",
   "execution_count": null,
   "id": "fd79991d-bbba-4844-9054-4eb19467ee11",
   "metadata": {},
   "outputs": [],
   "source": [
    "Q.3> Why is redirect() used in Flask?\n",
    "Ans> The redirect() function in Flask is used to redirect the user to a different URL or route within a \n",
    "     Flask application. When a Flask application receives a request, it can use the redirect() function \n",
    "     to send the user to a different URL or route, which can be useful for a variety of reasons."
   ]
  },
  {
   "cell_type": "code",
   "execution_count": null,
   "id": "9968e1a8-0418-4af4-8c27-9bc64bd49adc",
   "metadata": {},
   "outputs": [],
   "source": [
    "Q.4> What are templates in Flask? Why is the render_template() function used?\n",
    "Ans> Templates in Flask are files that contain HTML code with placeholders for dynamic content that will be  \n",
    "     filled in by the Flask application at runtime. Templates allow developers to separate the presentation \n",
    "     logic from the business logic of the application, making it easier to manage and maintain the application\n",
    "     over time.\n",
    "\n",
    "     The render_template() function in Flask is used to render templates and return the result as a response to \n",
    "     a client's request. The function takes the name of a template file as its argument and any additional data \n",
    "     that needs to be passed to the template for rendering. The function then processes the template, filling in\n",
    "     the placeholders with the dynamic data and returning the resulting HTML code as a response to the client's \n",
    "     request."
   ]
  },
  {
   "cell_type": "code",
   "execution_count": null,
   "id": "87a212dc-c0a7-4655-a5dd-5630f99668f7",
   "metadata": {},
   "outputs": [],
   "source": [
    "Q.5> Create a simple API. Use Postman to test it. Attach the screenshot of the output in the Jupyter Notebook.\n",
    "Ans> \n",
    "from flask import Flask, jsonify, request\n",
    "\n",
    "app = Flask(__name__)\n",
    "\n",
    "# Define the company and employees data\n",
    "company = {'name': 'Acme Inc.', 'employees': [\n",
    "    {'name': 'Tejas', 'title': 'Data Scientist'},\n",
    "    {'name': 'Sumit ', 'title': 'Data Analytics'},\n",
    "    {'name': 'Mahima ', 'title': 'Web Developer'}\n",
    "]}\n",
    "\n",
    "# Define a route to get the company name\n",
    "@app.route('/company/name', methods=['GET'])\n",
    "def get_company_name():\n",
    "    return jsonify({'name': company['name']})\n",
    "\n",
    "# Define a route to get the employees\n",
    "@app.route('/company/employees', methods=['GET'])\n",
    "def get_employees():\n",
    "    return jsonify({'employees': company['employees']})\n",
    "\n",
    "# Define a route to add an employee\n",
    "@app.route('/company/employees', methods=['POST'])\n",
    "def add_employee():\n",
    "    employee = request.get_json()\n",
    "    company['employees'].append(employee)\n",
    "    return jsonify({'employees': company['employees']})\n",
    "\n",
    "if __name__ == '__main__':\n",
    "    app.run(debug=True)"
   ]
  },
  {
   "attachments": {
    "86140aca-9cde-48d5-b73b-bc7d83001d08.PNG": {
     "image/png": "[encoded data removed]"
    }
   },
   "cell_type": "markdown",
   "id": "5ac925ba-8950-4de9-b07a-9d81d4815173",
   "metadata": {},
   "source": [
    "![9.PNG](attachment:86140aca-9cde-48d5-b73b-bc7d83001d08.PNG)"
   ]
  },
  {
   "cell_type": "code",
   "execution_count": null,
   "id": "11bd97d4-b684-4b91-b655-b12bac582c52",
   "metadata": {},
   "outputs": [],
   "source": []
  }
 ],
 "metadata": {
  "kernelspec": {
   "display_name": "Python 3 (ipykernel)",
   "language": "python",
   "name": "python3"
  },
  "language_info": {
   "codemirror_mode": {
    "name": "ipython",
    "version": 3
   },
   "file_extension": ".py",
   "mimetype": "text/x-python",
   "name": "python",
   "nbconvert_exporter": "python",
   "pygments_lexer": "ipython3",
   "version": "3.10.8"
  }
 },
 "nbformat": 4,
 "nbformat_minor": 5
}
